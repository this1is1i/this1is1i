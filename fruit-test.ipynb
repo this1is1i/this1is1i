{
 "cells": [
  {
   "cell_type": "code",
   "execution_count": 1,
   "id": "a5a8e472",
   "metadata": {
    "_cell_guid": "b1076dfc-b9ad-4769-8c92-a6c4dae69d19",
    "_uuid": "8f2839f25d086af736a60e9eeb907d3b93b6e0e5",
    "execution": {
     "iopub.execute_input": "2024-12-03T04:13:43.419306Z",
     "iopub.status.busy": "2024-12-03T04:13:43.418899Z",
     "iopub.status.idle": "2024-12-03T04:14:24.629007Z",
     "shell.execute_reply": "2024-12-03T04:14:24.627674Z"
    },
    "papermill": {
     "duration": 41.216463,
     "end_time": "2024-12-03T04:14:24.631848",
     "exception": false,
     "start_time": "2024-12-03T04:13:43.415385",
     "status": "completed"
    },
    "tags": []
   },
   "outputs": [
    {
     "name": "stdout",
     "output_type": "stream",
     "text": [
      "Ultralytics 8.3.40 🚀 Python-3.10.14 torch-2.4.0+cpu CPU (Intel Xeon 2.20GHz)\n",
      "Setup complete ✅ (4 CPUs, 31.4 GB RAM, 6013.4/8062.4 GB disk)\n",
      "\u001b[31m\u001b[1mrequirements:\u001b[0m Ultralytics requirement ['hub-sdk>=0.0.12'] not found, attempting AutoUpdate...\n",
      "Collecting hub-sdk>=0.0.12\n",
      "  Downloading hub_sdk-0.0.16-py3-none-any.whl.metadata (10 kB)\n",
      "Requirement already satisfied: requests in /opt/conda/lib/python3.10/site-packages (from hub-sdk>=0.0.12) (2.32.3)\n",
      "Requirement already satisfied: charset-normalizer<4,>=2 in /opt/conda/lib/python3.10/site-packages (from requests->hub-sdk>=0.0.12) (3.3.2)\n",
      "Requirement already satisfied: idna<4,>=2.5 in /opt/conda/lib/python3.10/site-packages (from requests->hub-sdk>=0.0.12) (3.7)\n",
      "Requirement already satisfied: urllib3<3,>=1.21.1 in /opt/conda/lib/python3.10/site-packages (from requests->hub-sdk>=0.0.12) (1.26.18)\n",
      "Requirement already satisfied: certifi>=2017.4.17 in /opt/conda/lib/python3.10/site-packages (from requests->hub-sdk>=0.0.12) (2024.6.2)\n",
      "Downloading hub_sdk-0.0.16-py3-none-any.whl (42 kB)\n",
      "\u001b[2K   \u001b[90m━━━━━━━━━━━━━━━━━━━━━━━━━━━━━━━━━━━━━━━━\u001b[0m \u001b[32m42.5/42.5 kB\u001b[0m \u001b[31m14.6 MB/s\u001b[0m eta \u001b[36m0:00:00\u001b[0m\n",
      "\u001b[?25hInstalling collected packages: hub-sdk\n",
      "Successfully installed hub-sdk-0.0.16\n",
      "\n",
      "\u001b[31m\u001b[1mrequirements:\u001b[0m AutoUpdate success ✅ 9.7s, installed 1 package: ['hub-sdk>=0.0.12']\n",
      "\u001b[31m\u001b[1mrequirements:\u001b[0m ⚠️ \u001b[1mRestart runtime or rerun command for updates to take effect\u001b[0m\n",
      "\n",
      "\u001b[34m\u001b[1mUltralytics HUB: \u001b[0mNew authentication successful ✅\n",
      "Loading trained HUB model https://hub.ultralytics.com/models/V1RZhwhBu6gVeh3oAwpR 🚀\n",
      "Downloading https://storage.googleapis.com/ultralytics-hub.appspot.com/users/nHcQpuAHqvUU9SKeLG1UW3zWKM42/models/V1RZhwhBu6gVeh3oAwpR/best.pt to 'weights/hub/V1RZhwhBu6gVeh3oAwpR/best.pt'...\n"
     ]
    },
    {
     "name": "stderr",
     "output_type": "stream",
     "text": [
      "100%|██████████| 5.23M/5.23M [00:02<00:00, 2.36MB/s]\n"
     ]
    },
    {
     "name": "stdout",
     "output_type": "stream",
     "text": [
      "Ultralytics 8.3.40 🚀 Python-3.10.14 torch-2.4.0+cpu CPU (Intel Xeon 2.20GHz)\n",
      "YOLO11n summary (fused): 238 layers, 2,587,807 parameters, 0 gradients, 6.3 GFLOPs\n",
      "\n",
      "\u001b[34m\u001b[1mPyTorch:\u001b[0m starting from 'weights/hub/V1RZhwhBu6gVeh3oAwpR/best.pt' with input shape (1, 3, 640, 640) BCHW and output shape(s) (1, 33, 8400) (5.2 MB)\n",
      "\n",
      "\u001b[34m\u001b[1mTorchScript:\u001b[0m starting export with torch 2.4.0+cpu...\n",
      "\u001b[34m\u001b[1mTorchScript:\u001b[0m export success ✅ 3.3s, saved as 'weights/hub/V1RZhwhBu6gVeh3oAwpR/best.torchscript' (10.4 MB)\n",
      "\n",
      "Export complete (4.3s)\n",
      "Results saved to \u001b[1m/kaggle/working/weights/hub/V1RZhwhBu6gVeh3oAwpR\u001b[0m\n",
      "Predict:         yolo predict task=detect model=weights/hub/V1RZhwhBu6gVeh3oAwpR/best.torchscript imgsz=640  \n",
      "Validate:        yolo val task=detect model=weights/hub/V1RZhwhBu6gVeh3oAwpR/best.torchscript imgsz=640 data=/kaggle/working/datasets/r8AGbumLR9/data.yaml  \n",
      "Visualize:       https://netron.app\n"
     ]
    }
   ],
   "source": [
    "%pip install -U ultralytics\n",
    "from ultralytics import YOLO, checks, hub\n",
    "checks()\n",
    "\n",
    "hub.login('23bcfc0dfc036b5cbca4f060d84961b9910c17ac51')\n",
    "\n",
    "model = YOLO('https://hub.ultralytics.com/models/V1RZhwhBu6gVeh3oAwpR')\n",
    "results = model.export()"
   ]
  }
 ],
 "metadata": {
  "kaggle": {
   "accelerator": "none",
   "dataSources": [],
   "isGpuEnabled": false,
   "isInternetEnabled": true,
   "language": "python",
   "sourceType": "notebook"
  },
  "kernelspec": {
   "display_name": "Python 3",
   "language": "python",
   "name": "python3"
  },
  "language_info": {
   "codemirror_mode": {
    "name": "ipython",
    "version": 3
   },
   "file_extension": ".py",
   "mimetype": "text/x-python",
   "name": "python",
   "nbconvert_exporter": "python",
   "pygments_lexer": "ipython3",
   "version": "3.10.14"
  },
  "papermill": {
   "default_parameters": {},
   "duration": 45.275727,
   "end_time": "2024-12-03T04:14:25.861430",
   "environment_variables": {},
   "exception": null,
   "input_path": "__notebook__.ipynb",
   "output_path": "__notebook__.ipynb",
   "parameters": {},
   "start_time": "2024-12-03T04:13:40.585703",
   "version": "2.6.0"
  }
 },
 "nbformat": 4,
 "nbformat_minor": 5
}
